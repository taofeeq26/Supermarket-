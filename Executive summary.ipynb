{
 "cells": [
  {
   "cell_type": "markdown",
   "id": "bdace7d4",
   "metadata": {},
   "source": [
    "# Executive Summary\n",
    "\n",
    "  This is a data analysis performed on the recorded data of the three major branches of the supermarket XYZ across the country.\n",
    "The analysis was successfully carried out through the technological tools employed which include Python, Pandas, Seaborn among others.\n",
    "  The data from all the branches were combined in one file for easy exploration and analysis. This process aid the successful completion of the tasks completed which include:\n",
    "1. Generation of important statiscal summaries\n",
    "2. Conversion of date and time to datetime and extraction of specific date features.\n",
    "3. Data visualizations to uncover important insights.\n",
    "\n",
    "### Insights\n",
    "\n",
    "The following includes the insights from the data analysis and visualizations above:\n",
    "1. The average Tax(5%) is 5536.572840\n",
    "2. The average gross income is 5536.572840\n",
    "3. There was no record of missing data.\n",
    "4. Branch C which is located in Port Harcourt has the most average tax paid.\n",
    "5. Branch C has the highest total gross income.\n",
    "6. Branch A (Lagos) has more sales than the other two branches.\n",
    "7. The mostly used payment channel is Epay.\n",
    "8. The products (Food and Beverages, Fashion Accessories, and Sports and Travel) was patronized by more females than males.\n",
    "9. The product Health and Beauty has more male customers than females.\n",
    "10. There were more 'Normal' customers than 'Member' customers.\n",
    "\n",
    "### Suggestions\n",
    "\n",
    "1. Health and Beauty products should be improved on as regards female customers.\n",
    "2. Provisions can be made for more 'Normal' customers to gain membership.\n"
   ]
  },
  {
   "cell_type": "code",
   "execution_count": null,
   "id": "5fed7358",
   "metadata": {},
   "outputs": [],
   "source": []
  },
  {
   "cell_type": "code",
   "execution_count": null,
   "id": "7ea04373",
   "metadata": {},
   "outputs": [],
   "source": []
  }
 ],
 "metadata": {
  "kernelspec": {
   "display_name": "Python 3 (ipykernel)",
   "language": "python",
   "name": "python3"
  },
  "language_info": {
   "codemirror_mode": {
    "name": "ipython",
    "version": 3
   },
   "file_extension": ".py",
   "mimetype": "text/x-python",
   "name": "python",
   "nbconvert_exporter": "python",
   "pygments_lexer": "ipython3",
   "version": "3.9.7"
  }
 },
 "nbformat": 4,
 "nbformat_minor": 5
}
